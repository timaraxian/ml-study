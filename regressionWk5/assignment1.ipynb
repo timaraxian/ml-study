{
 "cells": [
  {
   "cell_type": "code",
   "execution_count": 1,
   "metadata": {},
   "outputs": [],
   "source": [
    "import pandas as pd\n",
    "import numpy as np\n",
    "import matplotlib.pyplot as plt\n",
    "%matplotlib inline"
   ]
  },
  {
   "cell_type": "code",
   "execution_count": 2,
   "metadata": {},
   "outputs": [],
   "source": [
    "dtype_dict = {'bathrooms':float, 'waterfront':int, 'sqft_above':int, 'sqft_living15':float,\n",
    "              'grade':int, 'yr_renovated':int, 'price':float, 'bedrooms':float, 'zipcode':str,\n",
    "              'long':float, 'sqft_lot15':float, 'sqft_living':float, 'floors':float, \n",
    "              'condition':int, 'lat':float, 'date':str, 'sqft_basement':int, 'yr_built':int, \n",
    "              'id':str, 'sqft_lot':int, 'view':int}"
   ]
  },
  {
   "cell_type": "code",
   "execution_count": 3,
   "metadata": {},
   "outputs": [],
   "source": [
    "df_sales = pd.read_csv('kc_house_data.csv', dtype=dtype_dict)"
   ]
  },
  {
   "cell_type": "code",
   "execution_count": 4,
   "metadata": {},
   "outputs": [],
   "source": [
    "from math import log, sqrt\n",
    "df_sales['sqft_living_sqrt'] = df_sales['sqft_living'].apply(sqrt)\n",
    "df_sales['sqft_lot_sqrt'] = df_sales['sqft_lot'].apply(sqrt)\n",
    "df_sales['bedrooms_square'] = df_sales['bedrooms']*df_sales['bedrooms']\n",
    "df_sales['floors_square'] = df_sales['floors']*df_sales['floors']"
   ]
  },
  {
   "cell_type": "code",
   "execution_count": 5,
   "metadata": {},
   "outputs": [
    {
     "data": {
      "text/plain": [
       "Lasso(alpha=500.0, copy_X=True, fit_intercept=True, max_iter=1000,\n",
       "   normalize=True, positive=False, precompute=False, random_state=None,\n",
       "   selection='cyclic', tol=0.0001, warm_start=False)"
      ]
     },
     "execution_count": 5,
     "metadata": {},
     "output_type": "execute_result"
    }
   ],
   "source": [
    "from sklearn import linear_model\n",
    "\n",
    "all_features = ['bedrooms', 'bedrooms_square',\n",
    "            'bathrooms',\n",
    "            'sqft_living', 'sqft_living_sqrt',\n",
    "            'sqft_lot', 'sqft_lot_sqrt',\n",
    "            'floors', 'floors_square',\n",
    "            'waterfront', 'view', 'condition', 'grade',\n",
    "            'sqft_above',\n",
    "            'sqft_basement',\n",
    "            'yr_built', 'yr_renovated']\n",
    "\n",
    "model_all = linear_model.Lasso(alpha=5e2, normalize=True)\n",
    "model_all.fit(df_sales[all_features], df_sales['price'])"
   ]
  },
  {
   "cell_type": "markdown",
   "metadata": {},
   "source": [
    "<hr>\n",
    "\n",
    "**Quiz Question: Which features have been chosen by LASSO, i.e. which features were assigned nonzero weights?**"
   ]
  },
  {
   "cell_type": "code",
   "execution_count": 6,
   "metadata": {},
   "outputs": [
    {
     "data": {
      "text/plain": [
       "{'bedrooms': 0.0,\n",
       " 'bedrooms_square': 0.0,\n",
       " 'bathrooms': 0.0,\n",
       " 'sqft_living': 134.43931395541438,\n",
       " 'sqft_living_sqrt': 0.0,\n",
       " 'sqft_lot': 0.0,\n",
       " 'sqft_lot_sqrt': 0.0,\n",
       " 'floors': 0.0,\n",
       " 'floors_square': 0.0,\n",
       " 'waterfront': 0.0,\n",
       " 'view': 24750.00458560952,\n",
       " 'condition': 0.0,\n",
       " 'grade': 61749.10309070813,\n",
       " 'sqft_above': 0.0,\n",
       " 'sqft_basement': 0.0,\n",
       " 'yr_built': -0.0,\n",
       " 'yr_renovated': 0.0}"
      ]
     },
     "execution_count": 6,
     "metadata": {},
     "output_type": "execute_result"
    }
   ],
   "source": [
    "dict(zip(all_features, model_all.coef_))"
   ]
  },
  {
   "cell_type": "markdown",
   "metadata": {},
   "source": [
    "<hr>"
   ]
  },
  {
   "cell_type": "code",
   "execution_count": 7,
   "metadata": {},
   "outputs": [],
   "source": [
    "df_test = pd.read_csv('wk3_kc_house_test_data.csv', dtype=dtype_dict)\n",
    "df_train = pd.read_csv('wk3_kc_house_train_data.csv', dtype=dtype_dict)\n",
    "df_valid = pd.read_csv('wk3_kc_house_valid_data.csv', dtype=dtype_dict)"
   ]
  },
  {
   "cell_type": "code",
   "execution_count": 8,
   "metadata": {},
   "outputs": [],
   "source": [
    "df_test['sqft_living_sqrt'] = df_test['sqft_living'].apply(sqrt)\n",
    "df_test['sqft_lot_sqrt'] = df_test['sqft_lot'].apply(sqrt)\n",
    "df_test['bedrooms_square'] = df_test['bedrooms']*df_test['bedrooms']\n",
    "df_test['floors_square'] = df_test['floors']*df_test['floors']\n",
    "\n",
    "df_train['sqft_living_sqrt'] = df_train['sqft_living'].apply(sqrt)\n",
    "df_train['sqft_lot_sqrt'] = df_train['sqft_lot'].apply(sqrt)\n",
    "df_train['bedrooms_square'] = df_train['bedrooms']*df_train['bedrooms']\n",
    "df_train['floors_square'] = df_train['floors']*df_train['floors']\n",
    "\n",
    "df_valid['sqft_living_sqrt'] = df_valid['sqft_living'].apply(sqrt)\n",
    "df_valid['sqft_lot_sqrt'] = df_valid['sqft_lot'].apply(sqrt)\n",
    "df_valid['bedrooms_square'] = df_valid['bedrooms']*df_valid['bedrooms']\n",
    "df_valid['floors_square'] = df_valid['floors']*df_valid['floors']"
   ]
  },
  {
   "cell_type": "code",
   "execution_count": 9,
   "metadata": {},
   "outputs": [],
   "source": [
    "penalties = np.logspace(1, 7, num=13)"
   ]
  },
  {
   "cell_type": "code",
   "execution_count": 10,
   "metadata": {},
   "outputs": [
    {
     "data": {
      "text/html": [
       "<div>\n",
       "<style scoped>\n",
       "    .dataframe tbody tr th:only-of-type {\n",
       "        vertical-align: middle;\n",
       "    }\n",
       "\n",
       "    .dataframe tbody tr th {\n",
       "        vertical-align: top;\n",
       "    }\n",
       "\n",
       "    .dataframe thead th {\n",
       "        text-align: right;\n",
       "    }\n",
       "</style>\n",
       "<table border=\"1\" class=\"dataframe\">\n",
       "  <thead>\n",
       "    <tr style=\"text-align: right;\">\n",
       "      <th></th>\n",
       "      <th>RSS</th>\n",
       "    </tr>\n",
       "  </thead>\n",
       "  <tbody>\n",
       "    <tr>\n",
       "      <th>1.000000e+01</th>\n",
       "      <td>3.982133e+14</td>\n",
       "    </tr>\n",
       "    <tr>\n",
       "      <th>3.162278e+01</th>\n",
       "      <td>3.990419e+14</td>\n",
       "    </tr>\n",
       "    <tr>\n",
       "      <th>1.000000e+02</th>\n",
       "      <td>4.297916e+14</td>\n",
       "    </tr>\n",
       "    <tr>\n",
       "      <th>3.162278e+02</th>\n",
       "      <td>4.637398e+14</td>\n",
       "    </tr>\n",
       "    <tr>\n",
       "      <th>1.000000e+03</th>\n",
       "      <td>6.458987e+14</td>\n",
       "    </tr>\n",
       "    <tr>\n",
       "      <th>3.162278e+03</th>\n",
       "      <td>1.222507e+15</td>\n",
       "    </tr>\n",
       "    <tr>\n",
       "      <th>1.000000e+04</th>\n",
       "      <td>1.222507e+15</td>\n",
       "    </tr>\n",
       "    <tr>\n",
       "      <th>3.162278e+04</th>\n",
       "      <td>1.222507e+15</td>\n",
       "    </tr>\n",
       "    <tr>\n",
       "      <th>1.000000e+05</th>\n",
       "      <td>1.222507e+15</td>\n",
       "    </tr>\n",
       "    <tr>\n",
       "      <th>3.162278e+05</th>\n",
       "      <td>1.222507e+15</td>\n",
       "    </tr>\n",
       "    <tr>\n",
       "      <th>1.000000e+06</th>\n",
       "      <td>1.222507e+15</td>\n",
       "    </tr>\n",
       "    <tr>\n",
       "      <th>3.162278e+06</th>\n",
       "      <td>1.222507e+15</td>\n",
       "    </tr>\n",
       "    <tr>\n",
       "      <th>1.000000e+07</th>\n",
       "      <td>1.222507e+15</td>\n",
       "    </tr>\n",
       "  </tbody>\n",
       "</table>\n",
       "</div>"
      ],
      "text/plain": [
       "                       RSS\n",
       "1.000000e+01  3.982133e+14\n",
       "3.162278e+01  3.990419e+14\n",
       "1.000000e+02  4.297916e+14\n",
       "3.162278e+02  4.637398e+14\n",
       "1.000000e+03  6.458987e+14\n",
       "3.162278e+03  1.222507e+15\n",
       "1.000000e+04  1.222507e+15\n",
       "3.162278e+04  1.222507e+15\n",
       "1.000000e+05  1.222507e+15\n",
       "3.162278e+05  1.222507e+15\n",
       "1.000000e+06  1.222507e+15\n",
       "3.162278e+06  1.222507e+15\n",
       "1.000000e+07  1.222507e+15"
      ]
     },
     "execution_count": 10,
     "metadata": {},
     "output_type": "execute_result"
    }
   ],
   "source": [
    "rss = lambda y, yhat: np.dot((y - yhat).T, (y - yhat))\n",
    "\n",
    "calculated_rss = {}\n",
    "\n",
    "for l1_penalty in penalties:\n",
    "    model = linear_model.Lasso(alpha=l1_penalty, normalize=True)\n",
    "    \n",
    "    model.fit(df_train[all_features], df_train['price'])\n",
    "    \n",
    "    predicted = model.predict(df_valid[all_features])\n",
    "    \n",
    "    calculated_rss[l1_penalty] = rss(df_valid['price'], predicted)\n",
    "    \n",
    "pd.DataFrame(calculated_rss, index=['RSS']).T"
   ]
  },
  {
   "cell_type": "markdown",
   "metadata": {},
   "source": [
    "<hr>\n",
    "\n",
    "**Quiz Question: Which was the best value for the l1_penalty, i.e. which value of l1_penalty produced the lowest RSS on VALIDATION data?**"
   ]
  },
  {
   "cell_type": "code",
   "execution_count": 11,
   "metadata": {},
   "outputs": [
    {
     "data": {
      "text/plain": [
       "10.0"
      ]
     },
     "execution_count": 11,
     "metadata": {},
     "output_type": "execute_result"
    }
   ],
   "source": [
    "min(calculated_rss, key=calculated_rss.get)"
   ]
  },
  {
   "cell_type": "markdown",
   "metadata": {},
   "source": [
    "Now that you have selected an L1 penalty, compute the RSS on TEST data for the model with the best L1 penalty."
   ]
  },
  {
   "cell_type": "code",
   "execution_count": 12,
   "metadata": {},
   "outputs": [],
   "source": [
    "model = linear_model.Lasso(alpha=10, normalize=True)\n",
    "\n",
    "model.fit(df_train[all_features], df_train['price'])\n",
    "\n",
    "predicted = model.predict(df_test[all_features])\n",
    "\n",
    "calculated_rss = rss(df_test['price'], predicted)"
   ]
  },
  {
   "cell_type": "markdown",
   "metadata": {},
   "source": [
    "**Quiz Question: Using the best L1 penalty, how many nonzero weights do you have? Count the number of nonzero coefficients first, and add 1 if the intercept is also nonzero**"
   ]
  },
  {
   "cell_type": "code",
   "execution_count": 13,
   "metadata": {},
   "outputs": [
    {
     "data": {
      "text/plain": [
       "15"
      ]
     },
     "execution_count": 13,
     "metadata": {},
     "output_type": "execute_result"
    }
   ],
   "source": [
    "np.count_nonzero(model.coef_) + np.count_nonzero(model.intercept_)"
   ]
  },
  {
   "cell_type": "markdown",
   "metadata": {},
   "source": [
    "<hr>"
   ]
  },
  {
   "cell_type": "code",
   "execution_count": 14,
   "metadata": {},
   "outputs": [],
   "source": [
    "max_nonzeros = 7"
   ]
  },
  {
   "cell_type": "code",
   "execution_count": 15,
   "metadata": {},
   "outputs": [
    {
     "data": {
      "text/html": [
       "<div>\n",
       "<style scoped>\n",
       "    .dataframe tbody tr th:only-of-type {\n",
       "        vertical-align: middle;\n",
       "    }\n",
       "\n",
       "    .dataframe tbody tr th {\n",
       "        vertical-align: top;\n",
       "    }\n",
       "\n",
       "    .dataframe thead th {\n",
       "        text-align: right;\n",
       "    }\n",
       "</style>\n",
       "<table border=\"1\" class=\"dataframe\">\n",
       "  <thead>\n",
       "    <tr style=\"text-align: right;\">\n",
       "      <th></th>\n",
       "      <th># coef</th>\n",
       "    </tr>\n",
       "  </thead>\n",
       "  <tbody>\n",
       "    <tr>\n",
       "      <th>10.000000</th>\n",
       "      <td>15</td>\n",
       "    </tr>\n",
       "    <tr>\n",
       "      <th>14.384499</th>\n",
       "      <td>15</td>\n",
       "    </tr>\n",
       "    <tr>\n",
       "      <th>20.691381</th>\n",
       "      <td>15</td>\n",
       "    </tr>\n",
       "    <tr>\n",
       "      <th>29.763514</th>\n",
       "      <td>15</td>\n",
       "    </tr>\n",
       "    <tr>\n",
       "      <th>42.813324</th>\n",
       "      <td>13</td>\n",
       "    </tr>\n",
       "    <tr>\n",
       "      <th>61.584821</th>\n",
       "      <td>12</td>\n",
       "    </tr>\n",
       "    <tr>\n",
       "      <th>88.586679</th>\n",
       "      <td>11</td>\n",
       "    </tr>\n",
       "    <tr>\n",
       "      <th>127.427499</th>\n",
       "      <td>10</td>\n",
       "    </tr>\n",
       "    <tr>\n",
       "      <th>183.298071</th>\n",
       "      <td>7</td>\n",
       "    </tr>\n",
       "    <tr>\n",
       "      <th>263.665090</th>\n",
       "      <td>6</td>\n",
       "    </tr>\n",
       "    <tr>\n",
       "      <th>379.269019</th>\n",
       "      <td>6</td>\n",
       "    </tr>\n",
       "    <tr>\n",
       "      <th>545.559478</th>\n",
       "      <td>6</td>\n",
       "    </tr>\n",
       "    <tr>\n",
       "      <th>784.759970</th>\n",
       "      <td>5</td>\n",
       "    </tr>\n",
       "    <tr>\n",
       "      <th>1128.837892</th>\n",
       "      <td>3</td>\n",
       "    </tr>\n",
       "    <tr>\n",
       "      <th>1623.776739</th>\n",
       "      <td>3</td>\n",
       "    </tr>\n",
       "    <tr>\n",
       "      <th>2335.721469</th>\n",
       "      <td>2</td>\n",
       "    </tr>\n",
       "    <tr>\n",
       "      <th>3359.818286</th>\n",
       "      <td>1</td>\n",
       "    </tr>\n",
       "    <tr>\n",
       "      <th>4832.930239</th>\n",
       "      <td>1</td>\n",
       "    </tr>\n",
       "    <tr>\n",
       "      <th>6951.927962</th>\n",
       "      <td>1</td>\n",
       "    </tr>\n",
       "    <tr>\n",
       "      <th>10000.000000</th>\n",
       "      <td>1</td>\n",
       "    </tr>\n",
       "  </tbody>\n",
       "</table>\n",
       "</div>"
      ],
      "text/plain": [
       "              # coef\n",
       "10.000000         15\n",
       "14.384499         15\n",
       "20.691381         15\n",
       "29.763514         15\n",
       "42.813324         13\n",
       "61.584821         12\n",
       "88.586679         11\n",
       "127.427499        10\n",
       "183.298071         7\n",
       "263.665090         6\n",
       "379.269019         6\n",
       "545.559478         6\n",
       "784.759970         5\n",
       "1128.837892        3\n",
       "1623.776739        3\n",
       "2335.721469        2\n",
       "3359.818286        1\n",
       "4832.930239        1\n",
       "6951.927962        1\n",
       "10000.000000       1"
      ]
     },
     "execution_count": 15,
     "metadata": {},
     "output_type": "execute_result"
    }
   ],
   "source": [
    "allowed_penalties = {}\n",
    "\n",
    "for l1_penalty in np.logspace(1, 4, num=20):\n",
    "    model = linear_model.Lasso(alpha=l1_penalty, normalize=True)\n",
    "    \n",
    "    model.fit(df_train[all_features], df_train['price'])\n",
    "    \n",
    "    allowed_penalties[l1_penalty] = np.count_nonzero(model.coef_) + np.count_nonzero(model.intercept_)\n",
    "    \n",
    "pd.DataFrame(allowed_penalties, index=['# coef']).T"
   ]
  },
  {
   "cell_type": "markdown",
   "metadata": {},
   "source": [
    "<hr>\n",
    "\n",
    "**Quiz Question: What values did you find for l1_penalty_min and l1_penalty_max?**\n",
    "\n",
    "<hr>"
   ]
  },
  {
   "cell_type": "code",
   "execution_count": 16,
   "metadata": {},
   "outputs": [
    {
     "data": {
      "text/plain": [
       "156.109097    4.400374e+14\n",
       "163.279497    4.407775e+14\n",
       "170.449896    4.415667e+14\n",
       "177.620296    4.424064e+14\n",
       "184.790695    4.432967e+14\n",
       "191.961095    4.442398e+14\n",
       "199.131494    4.452307e+14\n",
       "dtype: float64"
      ]
     },
     "execution_count": 16,
     "metadata": {},
     "output_type": "execute_result"
    }
   ],
   "source": [
    "calculated_rss = {}\n",
    "\n",
    "for l1_penalty in np.linspace(127.427499, 263.665090,20):\n",
    "    model = linear_model.Lasso(alpha=l1_penalty, normalize=True)\n",
    "    \n",
    "    model.fit(df_train[all_features], df_train['price'])\n",
    "    \n",
    "    if max_nonzeros == np.count_nonzero(model.coef_) + np.count_nonzero(model.intercept_):\n",
    "        predictions = model.predict(df_valid[all_features])\n",
    "\n",
    "        calculated_rss[l1_penalty] = rss(df_valid['price'], predictions)\n",
    "\n",
    "pd.Series(calculated_rss)"
   ]
  },
  {
   "cell_type": "markdown",
   "metadata": {},
   "source": [
    "<hr>\n",
    "\n",
    "**Quiz Question: What value of l1_penalty in our narrow range has the lowest RSS on the VALIDATION set and has sparsity equal to ‘max_nonzeros’?**"
   ]
  },
  {
   "cell_type": "code",
   "execution_count": 17,
   "metadata": {},
   "outputs": [
    {
     "data": {
      "text/plain": [
       "156.10909710526315"
      ]
     },
     "execution_count": 17,
     "metadata": {},
     "output_type": "execute_result"
    }
   ],
   "source": [
    "min(calculated_rss, key=calculated_rss.get)"
   ]
  },
  {
   "cell_type": "markdown",
   "metadata": {},
   "source": [
    "**Quiz Question: What features in this model have non-zero coefficients?**"
   ]
  },
  {
   "cell_type": "code",
   "execution_count": 18,
   "metadata": {},
   "outputs": [
    {
     "data": {
      "text/plain": [
       "{'bathrooms': 10610.89020737359,\n",
       " 'sqft_living': 163.3802516719241,\n",
       " 'waterfront': 506451.68682324677,\n",
       " 'view': 41960.04354862281,\n",
       " 'grade': 116253.55366145167,\n",
       " 'yr_built': -2612.2348776920894}"
      ]
     },
     "execution_count": 18,
     "metadata": {},
     "output_type": "execute_result"
    }
   ],
   "source": [
    "model = linear_model.Lasso(alpha=156.10909710526315, normalize=True)\n",
    "\n",
    "model.fit(df_train[all_features], df_train['price'])\n",
    "\n",
    "features = dict(zip(all_features, model.coef_))\n",
    "\n",
    "{k: v for k, v in features.items() if v != 0}"
   ]
  },
  {
   "cell_type": "code",
   "execution_count": null,
   "metadata": {},
   "outputs": [],
   "source": []
  }
 ],
 "metadata": {
  "kernelspec": {
   "display_name": "Python 3",
   "language": "python",
   "name": "python3"
  },
  "language_info": {
   "codemirror_mode": {
    "name": "ipython",
    "version": 3
   },
   "file_extension": ".py",
   "mimetype": "text/x-python",
   "name": "python",
   "nbconvert_exporter": "python",
   "pygments_lexer": "ipython3",
   "version": "3.6.4"
  }
 },
 "nbformat": 4,
 "nbformat_minor": 2
}
