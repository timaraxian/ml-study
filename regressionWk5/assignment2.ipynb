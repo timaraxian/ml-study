{
 "cells": [
  {
   "cell_type": "code",
   "execution_count": 1,
   "metadata": {},
   "outputs": [],
   "source": [
    "import numpy as np\n",
    "import pandas as pd"
   ]
  },
  {
   "cell_type": "code",
   "execution_count": 2,
   "metadata": {},
   "outputs": [],
   "source": [
    "dtype_dict = {'bathrooms':float, 'waterfront':int, 'sqft_above':int, 'sqft_living15':float, \n",
    "              'grade':int, 'yr_renovated':int, 'price':float, 'bedrooms':float, 'zipcode':str, \n",
    "              'long':float, 'sqft_lot15':float, 'sqft_living':float, 'floors':float, 'condition':int, \n",
    "              'lat':float, 'date':str, 'sqft_basement':int, 'yr_built':int, \n",
    "              'id':str, 'sqft_lot':int, 'view':int}"
   ]
  },
  {
   "cell_type": "code",
   "execution_count": 3,
   "metadata": {},
   "outputs": [],
   "source": [
    "df_sales = pd.read_csv('kc_house_data.csv', dtype=dtype_dict)\n",
    "df_train = pd.read_csv('kc_house_train_data.csv', dtype=dtype_dict)\n",
    "df_test = pd.read_csv('kc_house_test_data.csv', dtype=dtype_dict)"
   ]
  },
  {
   "cell_type": "code",
   "execution_count": 4,
   "metadata": {},
   "outputs": [],
   "source": [
    "def get_data(data, features, target):\n",
    "    out_df = pd.DataFrame(data[features])\n",
    "    out_df['constant'] = 1\n",
    "    \n",
    "    return out_df[['constant'] + features], pd.DataFrame(data[target])"
   ]
  },
  {
   "cell_type": "code",
   "execution_count": 35,
   "metadata": {},
   "outputs": [],
   "source": [
    "def predict_output(feature_matrix, weights):\n",
    "    return np.dot(feature_matrix, weights)"
   ]
  },
  {
   "cell_type": "code",
   "execution_count": 15,
   "metadata": {},
   "outputs": [],
   "source": [
    "def normalise(features):\n",
    "    norms = np.sqrt(np.diag(np.dot(features.T, features)))\n",
    "    normalised_features = np.divide(features, norms)\n",
    "    \n",
    "    return normalised_features, norms.reshape(-1,1)"
   ]
  },
  {
   "cell_type": "markdown",
   "metadata": {},
   "source": [
    "Consider a simple model with 2 features: ‘sqft_living’ and ‘bedrooms’. The output is ‘price’.\n",
    "\n",
    "- First, run get_numpy_data() (or equivalent) to obtain a feature matrix with 3 columns (constant column added). Use the entire ‘sales’ dataset for now.\n",
    "- Normalize columns of the feature matrix. Save the norms of original features as ‘norms’.\n",
    "- Set initial weights to [1,4,1].\n",
    "- Make predictions with feature matrix and initial weights.\n",
    "- Compute values of ro[i], where\n",
    "<pre>ro[i] = SUM[ [feature_i]*(output - prediction + w[i]*[feature_i]) ]</pre>"
   ]
  },
  {
   "cell_type": "code",
   "execution_count": 221,
   "metadata": {},
   "outputs": [],
   "source": [
    "feature_matrix, target_matrix = get_data(df_sales, ['sqft_living', 'bedrooms'], 'price')"
   ]
  },
  {
   "cell_type": "code",
   "execution_count": 222,
   "metadata": {},
   "outputs": [],
   "source": [
    "normalised_features, norms = normalise(feature_matrix)"
   ]
  },
  {
   "cell_type": "code",
   "execution_count": 223,
   "metadata": {},
   "outputs": [],
   "source": [
    "initial_weights = np.array([1,4,1]).reshape(-1,1)"
   ]
  },
  {
   "cell_type": "code",
   "execution_count": 224,
   "metadata": {},
   "outputs": [],
   "source": [
    "predictions = predict_output(normalised_features, initial_weights)"
   ]
  },
  {
   "cell_type": "code",
   "execution_count": 239,
   "metadata": {},
   "outputs": [],
   "source": [
    "def get_rho(features, target, predictions, weights):    \n",
    "    return np.sum(features*(target.values - predictions + weights.T * features), axis=0)"
   ]
  },
  {
   "cell_type": "code",
   "execution_count": 240,
   "metadata": {},
   "outputs": [
    {
     "data": {
      "text/plain": [
       "constant       7.940030e+07\n",
       "sqft_living    8.793947e+07\n",
       "bedrooms       8.096670e+07\n",
       "dtype: float64"
      ]
     },
     "execution_count": 240,
     "metadata": {},
     "output_type": "execute_result"
    }
   ],
   "source": [
    "get_rho(normalised_features, target_matrix, predictions, initial_weights)"
   ]
  },
  {
   "cell_type": "markdown",
   "metadata": {},
   "source": [
    "<hr>\n",
    "**Quiz Question: Recall that, whenever ro[i] falls between -l1_penalty/2 and l1_penalty/2, the corresponding weight w[i] is sent to zero. Now suppose we were to take one step of coordinate descent on either feature 1 or feature 2. What range of values of l1_penalty would not set w[1] zero, but would set w[2] to zero, if we were to take a step in that coordinate?**\n",
    "<hr>"
   ]
  },
  {
   "cell_type": "markdown",
   "metadata": {},
   "source": [
    "w[2] = 80966698.66623947"
   ]
  },
  {
   "cell_type": "code",
   "execution_count": 133,
   "metadata": {},
   "outputs": [
    {
     "data": {
      "text/plain": [
       "161933397.33247894"
      ]
     },
     "execution_count": 133,
     "metadata": {},
     "output_type": "execute_result"
    }
   ],
   "source": [
    "80966698.66623947 * 2"
   ]
  },
  {
   "cell_type": "markdown",
   "metadata": {},
   "source": [
    "<hr>\n",
    "** Quiz Question: What range of values of l1_penalty would set both w[1] and w[2] to zero, if we were to take a step in that coordinate? **"
   ]
  },
  {
   "cell_type": "markdown",
   "metadata": {},
   "source": [
    "w[1] = 87939470.82325175"
   ]
  },
  {
   "cell_type": "code",
   "execution_count": 135,
   "metadata": {},
   "outputs": [
    {
     "data": {
      "text/plain": [
       "175878941.6465035"
      ]
     },
     "execution_count": 135,
     "metadata": {},
     "output_type": "execute_result"
    }
   ],
   "source": [
    "87939470.82325175 * 2"
   ]
  },
  {
   "cell_type": "markdown",
   "metadata": {},
   "source": [
    "<hr>"
   ]
  },
  {
   "cell_type": "code",
   "execution_count": 351,
   "metadata": {},
   "outputs": [],
   "source": [
    "def lasso_coordinate_descent_step(i, feature_matrix, target, weights, l1_penalty):\n",
    "    prediction =  predict_output(feature_matrix, weights)\n",
    "\n",
    "    rho_i = get_rho(feature_matrix,\n",
    "                    target,\n",
    "                    prediction,\n",
    "                    weights)[i]\n",
    "\n",
    "    if i == 0:\n",
    "        new_weight_i = rho_i\n",
    "    elif rho_i < -l1_penalty/2.:\n",
    "        new_weight_i = rho_i + l1_penalty/2.\n",
    "    elif rho_i > l1_penalty/2.:\n",
    "        new_weight_i = rho_i - l1_penalty/2.\n",
    "    else:\n",
    "        new_weight_i = 0.\n",
    "    \n",
    "    return new_weight_i"
   ]
  },
  {
   "cell_type": "markdown",
   "metadata": {},
   "source": [
    "testing function"
   ]
  },
  {
   "cell_type": "code",
   "execution_count": 352,
   "metadata": {},
   "outputs": [
    {
     "name": "stdout",
     "output_type": "stream",
     "text": [
      "0.4255588466910251\n"
     ]
    }
   ],
   "source": [
    "# should print 0.425558846691\n",
    "import math\n",
    "print(lasso_coordinate_descent_step(1,\n",
    "                                    pd.DataFrame(np.array([[3./math.sqrt(13),1./math.sqrt(10)],[2./math.sqrt(13),3./math.sqrt(10)]])),\n",
    "                                    pd.DataFrame(np.array([1., 1.]).reshape(-1,1)),\n",
    "                                    np.array([1., 4.]).reshape(-1,1),\n",
    "                                    0.1,\n",
    "                                   )\n",
    "     )\n"
   ]
  },
  {
   "cell_type": "code",
   "execution_count": 357,
   "metadata": {},
   "outputs": [],
   "source": [
    "def lasso_cyclical_coordinate_descent(feature_matrix, target, initial_weights, l1_penalty, tolerance):\n",
    "    \n",
    "    changes = np.full(len(feature_matrix.columns),tolerance+1)\n",
    "    weights = initial_weights\n",
    "    \n",
    "    while changes.max() >= tolerance:\n",
    "    \n",
    "        for i in range(len(feature_matrix.columns)):\n",
    "            new_weight = lasso_coordinate_descent_step(i=i, \n",
    "                                          feature_matrix=feature_matrix,\n",
    "                                          target=target,\n",
    "                                          weights=weights,\n",
    "                                          l1_penalty=l1_penalty\n",
    "                                         )\n",
    "\n",
    "            changes[i] = abs(weights[i] - new_weight)\n",
    "            weights[i] = new_weight\n",
    "    \n",
    "    \n",
    "    return weights"
   ]
  },
  {
   "cell_type": "code",
   "execution_count": 358,
   "metadata": {},
   "outputs": [],
   "source": [
    "feature_matrix, target_matrix = get_data(df_sales, ['sqft_living', 'bedrooms'], 'price')\n",
    "normalised, norms = normalise(feature_matrix)\n",
    "initial_weights = np.zeros(len(normalised.columns)).reshape(-1,1)\n",
    "l1_penalty = 1e7\n",
    "tolerance = 1.0"
   ]
  },
  {
   "cell_type": "code",
   "execution_count": 360,
   "metadata": {},
   "outputs": [
    {
     "data": {
      "text/plain": [
       "array([[21624997.24022756],\n",
       "       [63157247.86588661],\n",
       "       [       0.        ]])"
      ]
     },
     "execution_count": 360,
     "metadata": {},
     "output_type": "execute_result"
    }
   ],
   "source": [
    "weights = lasso_cyclical_coordinate_descent(feature_matrix=normalised,\n",
    "                                  target=target_matrix,\n",
    "                                  initial_weights=initial_weights,\n",
    "                                  l1_penalty=l1_penalty,\n",
    "                                  tolerance=tolerance,\n",
    "                                 )\n",
    "weights"
   ]
  },
  {
   "cell_type": "code",
   "execution_count": 302,
   "metadata": {},
   "outputs": [],
   "source": [
    "rss = lambda y, y_hat: np.dot((y - y_hat).T, (y - y_hat))"
   ]
  },
  {
   "cell_type": "code",
   "execution_count": 362,
   "metadata": {},
   "outputs": [
    {
     "data": {
      "text/plain": [
       "array([[1.63049247e+15]])"
      ]
     },
     "execution_count": 362,
     "metadata": {},
     "output_type": "execute_result"
    }
   ],
   "source": [
    "rss(target_matrix, predict_output(normalised, weights))"
   ]
  },
  {
   "cell_type": "markdown",
   "metadata": {},
   "source": [
    "<hr>\n",
    "**Quiz Question: What is the RSS of the learned model on the normalized dataset?**\n",
    "\n",
    "**Quiz Question: Which features had weight zero at convergence?**\n",
    "<hr>"
   ]
  },
  {
   "cell_type": "code",
   "execution_count": null,
   "metadata": {},
   "outputs": [],
   "source": []
  }
 ],
 "metadata": {
  "kernelspec": {
   "display_name": "Python 3",
   "language": "python",
   "name": "python3"
  },
  "language_info": {
   "codemirror_mode": {
    "name": "ipython",
    "version": 3
   },
   "file_extension": ".py",
   "mimetype": "text/x-python",
   "name": "python",
   "nbconvert_exporter": "python",
   "pygments_lexer": "ipython3",
   "version": "3.6.4"
  }
 },
 "nbformat": 4,
 "nbformat_minor": 2
}
