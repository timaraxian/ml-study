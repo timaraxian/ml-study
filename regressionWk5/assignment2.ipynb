{
 "cells": [
  {
   "cell_type": "code",
   "execution_count": 1,
   "metadata": {},
   "outputs": [],
   "source": [
    "import numpy as np\n",
    "import pandas as pd"
   ]
  },
  {
   "cell_type": "code",
   "execution_count": 2,
   "metadata": {},
   "outputs": [],
   "source": [
    "dtype_dict = {'bathrooms':float, 'waterfront':int, 'sqft_above':int, 'sqft_living15':float,\n",
    "              'grade':int, 'yr_renovated':int, 'price':float, 'bedrooms':float, 'zipcode':str,\n",
    "              'long':float, 'sqft_lot15':float, 'sqft_living':float, 'floors':float, 'condition':int,\n",
    "              'lat':float, 'date':str, 'sqft_basement':int, 'yr_built':int, 'id':str,\n",
    "              'sqft_lot':int, 'view':int,\n",
    "             }"
   ]
  },
  {
   "cell_type": "code",
   "execution_count": 3,
   "metadata": {},
   "outputs": [],
   "source": [
    "df_sales = pd.read_csv('kc_house_data.csv', dtype=dtype_dict)"
   ]
  },
  {
   "cell_type": "code",
   "execution_count": 4,
   "metadata": {},
   "outputs": [],
   "source": [
    "def get_data(data, features, target):\n",
    "    out_df = pd.DataFrame(data[features])\n",
    "    out_df['constant'] = 1\n",
    "    \n",
    "    return out_df[['constant'] + features], pd.DataFrame(data[target])"
   ]
  },
  {
   "cell_type": "code",
   "execution_count": 5,
   "metadata": {},
   "outputs": [],
   "source": [
    "def predict_output(feature_matrix, weights):\n",
    "    return np.dot(feature_matrix, weights)"
   ]
  },
  {
   "cell_type": "code",
   "execution_count": 6,
   "metadata": {},
   "outputs": [],
   "source": [
    "def normalise(features):\n",
    "    norms = np.sqrt(np.diag(np.dot(features.T, features)))\n",
    "    normalised_features = np.divide(features, norms)\n",
    "    \n",
    "    return normalised_features, norms.reshape(-1,1)"
   ]
  },
  {
   "cell_type": "code",
   "execution_count": 7,
   "metadata": {},
   "outputs": [],
   "source": [
    "def normalise2(features):\n",
    "    \n",
    "    norms = np.linalg.norm(features, axis=0)\n",
    "    normalised_features = features / norms\n",
    "    \n",
    "    return normalised_features, norms.reshape(-1,1)"
   ]
  },
  {
   "cell_type": "markdown",
   "metadata": {},
   "source": [
    "Consider a simple model with 2 features: ‘sqft_living’ and ‘bedrooms’. The output is ‘price’.\n",
    "\n",
    "- First, run get_numpy_data() (or equivalent) to obtain a feature matrix with 3 columns (constant column added). Use the entire ‘sales’ dataset for now.\n",
    "- Normalize columns of the feature matrix. Save the norms of original features as ‘norms’.\n",
    "- Set initial weights to [1,4,1].\n",
    "- Make predictions with feature matrix and initial weights.\n",
    "- Compute values of ro[i], where\n",
    "<pre>ro[i] = SUM[ [feature_i]*(output - prediction + w[i]*[feature_i]) ]</pre>"
   ]
  },
  {
   "cell_type": "code",
   "execution_count": 8,
   "metadata": {},
   "outputs": [],
   "source": [
    "feature_matrix, target_matrix = get_data(df_sales, ['sqft_living', 'bedrooms'], 'price')\n",
    "normalised_features, norms = normalise(feature_matrix)\n",
    "initial_weights = np.array([1,4,1]).reshape(-1,1)\n",
    "predictions = predict_output(normalised_features, initial_weights)"
   ]
  },
  {
   "cell_type": "code",
   "execution_count": 9,
   "metadata": {},
   "outputs": [],
   "source": [
    "def get_rho(features, target, predictions, weights):    \n",
    "    return np.sum(features*(target.values - predictions + weights.T * features), axis=0)"
   ]
  },
  {
   "cell_type": "code",
   "execution_count": 10,
   "metadata": {},
   "outputs": [],
   "source": [
    "def get_rho2(i, features, target, prediction, weights):\n",
    "    return np.sum(features.values[:,i].reshape(-1,1) * ((target - prediction).values + (weights[i][0] * features.values[:,i]).reshape(-1,1))).reshape(-1,1)"
   ]
  },
  {
   "cell_type": "code",
   "execution_count": 11,
   "metadata": {},
   "outputs": [
    {
     "data": {
      "text/plain": [
       "constant       7.940030e+07\n",
       "sqft_living    8.793947e+07\n",
       "bedrooms       8.096670e+07\n",
       "dtype: float64"
      ]
     },
     "execution_count": 11,
     "metadata": {},
     "output_type": "execute_result"
    }
   ],
   "source": [
    "get_rho(normalised_features, target_matrix, predictions, initial_weights)"
   ]
  },
  {
   "cell_type": "markdown",
   "metadata": {},
   "source": [
    "<hr>\n",
    "**Quiz Question: Recall that, whenever ro[i] falls between -l1_penalty/2 and l1_penalty/2, the corresponding weight w[i] is sent to zero. Now suppose we were to take one step of coordinate descent on either feature 1 or feature 2. What range of values of l1_penalty would not set w[1] zero, but would set w[2] to zero, if we were to take a step in that coordinate?**\n",
    "<hr>"
   ]
  },
  {
   "cell_type": "markdown",
   "metadata": {},
   "source": [
    "w[2] = 80966698.66623947"
   ]
  },
  {
   "cell_type": "code",
   "execution_count": 12,
   "metadata": {},
   "outputs": [
    {
     "data": {
      "text/plain": [
       "161933397.33247894"
      ]
     },
     "execution_count": 12,
     "metadata": {},
     "output_type": "execute_result"
    }
   ],
   "source": [
    "80966698.66623947 * 2"
   ]
  },
  {
   "cell_type": "markdown",
   "metadata": {},
   "source": [
    "<hr>\n",
    "** Quiz Question: What range of values of l1_penalty would set both w[1] and w[2] to zero, if we were to take a step in that coordinate? **"
   ]
  },
  {
   "cell_type": "markdown",
   "metadata": {},
   "source": [
    "w[1] = 87939470.82325175"
   ]
  },
  {
   "cell_type": "code",
   "execution_count": 13,
   "metadata": {},
   "outputs": [
    {
     "data": {
      "text/plain": [
       "175878941.6465035"
      ]
     },
     "execution_count": 13,
     "metadata": {},
     "output_type": "execute_result"
    }
   ],
   "source": [
    "87939470.82325175 * 2"
   ]
  },
  {
   "cell_type": "markdown",
   "metadata": {},
   "source": [
    "<hr>"
   ]
  },
  {
   "cell_type": "code",
   "execution_count": 14,
   "metadata": {},
   "outputs": [],
   "source": [
    "def lasso_coordinate_descent_step(i, feature_matrix, target, weights, l1_penalty):\n",
    "    prediction =  predict_output(feature_matrix, weights)\n",
    "\n",
    "    rho_i = get_rho2(i, feature_matrix, target, prediction, weights)\n",
    "    \n",
    "    if i == 0:\n",
    "        new_weight_i = rho_i\n",
    "    elif rho_i < -l1_penalty/2.:\n",
    "        new_weight_i = rho_i + l1_penalty/2.\n",
    "    elif rho_i > l1_penalty/2.:\n",
    "        new_weight_i = rho_i - l1_penalty/2.\n",
    "    else:\n",
    "        new_weight_i = 0.\n",
    "    \n",
    "    return new_weight_i"
   ]
  },
  {
   "cell_type": "markdown",
   "metadata": {},
   "source": [
    "testing function"
   ]
  },
  {
   "cell_type": "code",
   "execution_count": 15,
   "metadata": {},
   "outputs": [
    {
     "name": "stdout",
     "output_type": "stream",
     "text": [
      "[[0.42555885]]\n"
     ]
    }
   ],
   "source": [
    "# should print 0.425558846691\n",
    "import math\n",
    "print(lasso_coordinate_descent_step(1,\n",
    "                                    pd.DataFrame(np.array([[3./math.sqrt(13),1./math.sqrt(10)],[2./math.sqrt(13),3./math.sqrt(10)]])),\n",
    "                                    pd.DataFrame(np.array([1., 1.]).reshape(-1,1)),\n",
    "                                    np.array([1., 4.]).reshape(-1,1),\n",
    "                                    0.1,\n",
    "                                   )\n",
    "     )\n"
   ]
  },
  {
   "cell_type": "code",
   "execution_count": 16,
   "metadata": {},
   "outputs": [],
   "source": [
    "def lasso_cyclical_coordinate_descent(feature_matrix, target, initial_weights, l1_penalty, tolerance):\n",
    "    \n",
    "    changes = np.full(len(feature_matrix.columns),tolerance+1)\n",
    "    weights = initial_weights\n",
    "    \n",
    "    while changes.max() >= tolerance:\n",
    "    \n",
    "        for i in range(len(feature_matrix.columns)):\n",
    "            new_weight = lasso_coordinate_descent_step(i=i, \n",
    "                                          feature_matrix=feature_matrix,\n",
    "                                          target=target,\n",
    "                                          weights=weights,\n",
    "                                          l1_penalty=l1_penalty\n",
    "                                         )\n",
    "\n",
    "            changes[i] = abs(weights[i] - new_weight)\n",
    "            weights[i] = new_weight\n",
    "    \n",
    "    \n",
    "    return weights"
   ]
  },
  {
   "cell_type": "code",
   "execution_count": 17,
   "metadata": {},
   "outputs": [],
   "source": [
    "feature_matrix, target_matrix = get_data(df_sales, ['sqft_living', 'bedrooms'], 'price')\n",
    "normalised, norms = normalise(feature_matrix)\n",
    "initial_weights = np.zeros(len(normalised.columns)).reshape(-1,1)\n",
    "l1_penalty = 1e7\n",
    "tolerance = 1.0"
   ]
  },
  {
   "cell_type": "code",
   "execution_count": 18,
   "metadata": {},
   "outputs": [
    {
     "data": {
      "text/plain": [
       "array([[21624997.9595191 ],\n",
       "       [63157247.20788956],\n",
       "       [       0.        ]])"
      ]
     },
     "execution_count": 18,
     "metadata": {},
     "output_type": "execute_result"
    }
   ],
   "source": [
    "weights = lasso_cyclical_coordinate_descent(feature_matrix=normalised,\n",
    "                                  target=target_matrix,\n",
    "                                  initial_weights=initial_weights,\n",
    "                                  l1_penalty=l1_penalty,\n",
    "                                  tolerance=tolerance,\n",
    "                                 )\n",
    "weights"
   ]
  },
  {
   "cell_type": "code",
   "execution_count": 19,
   "metadata": {},
   "outputs": [],
   "source": [
    "rss = lambda y, y_hat: np.dot((y - y_hat).T, (y - y_hat))"
   ]
  },
  {
   "cell_type": "code",
   "execution_count": 20,
   "metadata": {},
   "outputs": [
    {
     "data": {
      "text/plain": [
       "array([[1.63049248e+15]])"
      ]
     },
     "execution_count": 20,
     "metadata": {},
     "output_type": "execute_result"
    }
   ],
   "source": [
    "rss(target_matrix, predict_output(normalised, weights))"
   ]
  },
  {
   "cell_type": "markdown",
   "metadata": {},
   "source": [
    "<hr>\n",
    "**Quiz Question: What is the RSS of the learned model on the normalized dataset?**\n",
    "\n",
    "**Quiz Question: Which features had weight zero at convergence?**\n",
    "<hr>"
   ]
  },
  {
   "cell_type": "code",
   "execution_count": 21,
   "metadata": {},
   "outputs": [],
   "source": [
    "features = [\n",
    "    \"bedrooms\",\n",
    "    \"bathrooms\",\n",
    "    \"sqft_living\",\n",
    "    \"sqft_lot\",\n",
    "    \"floors\",\n",
    "    \"waterfront\",\n",
    "    \"view\",\n",
    "    \"condition\",\n",
    "    \"grade\",\n",
    "    \"sqft_above\",\n",
    "    \"sqft_basement\",\n",
    "    \"yr_built\",\n",
    "    \"yr_renovated\",\n",
    "]"
   ]
  },
  {
   "cell_type": "code",
   "execution_count": 22,
   "metadata": {},
   "outputs": [],
   "source": [
    "df_train = pd.read_csv('kc_house_train_data.csv', dtype=dtype_dict)\n",
    "df_test = pd.read_csv('kc_house_test_data.csv', dtype=dtype_dict)"
   ]
  },
  {
   "cell_type": "code",
   "execution_count": 23,
   "metadata": {},
   "outputs": [],
   "source": [
    "features_train, target_train = get_data(data=df_train, features=features, target='price')\n",
    "normalised_train, norms_train = normalise2(features_train)"
   ]
  },
  {
   "cell_type": "code",
   "execution_count": 24,
   "metadata": {},
   "outputs": [],
   "source": [
    "weights_1e7 = lasso_cyclical_coordinate_descent(feature_matrix=normalised_train,\n",
    "                                                target=target_train,\n",
    "                                                initial_weights=np.zeros(len(normalised_train.columns)).reshape(-1,1),\n",
    "                                                l1_penalty=1e7,\n",
    "                                                tolerance=1.0,\n",
    "                                 )"
   ]
  },
  {
   "cell_type": "markdown",
   "metadata": {},
   "source": [
    "<hr>\n",
    "**Quiz Question: What features had non-zero weight in this case?**"
   ]
  },
  {
   "cell_type": "code",
   "execution_count": 25,
   "metadata": {},
   "outputs": [
    {
     "data": {
      "text/plain": [
       "{'constant': 24429600.234403126,\n",
       " 'bedrooms': 0.0,\n",
       " 'bathrooms': 0.0,\n",
       " 'sqft_living': 48389174.77154895,\n",
       " 'sqft_lot': 0.0,\n",
       " 'floors': 0.0,\n",
       " 'waterfront': 3317511.214921655,\n",
       " 'view': 7329961.811714256,\n",
       " 'condition': 0.0,\n",
       " 'grade': 0.0,\n",
       " 'sqft_above': 0.0,\n",
       " 'sqft_basement': 0.0,\n",
       " 'yr_built': 0.0,\n",
       " 'yr_renovated': 0.0}"
      ]
     },
     "execution_count": 25,
     "metadata": {},
     "output_type": "execute_result"
    }
   ],
   "source": [
    "dict(zip(['constant'] + features, weights_1e7[:,0]))"
   ]
  },
  {
   "cell_type": "markdown",
   "metadata": {},
   "source": [
    "<hr>\n",
    "Next, learn the weights with l1_penalty=1e8\n",
    "\n",
    "**Quiz Question: What features had non-zero weight in this case?**"
   ]
  },
  {
   "cell_type": "code",
   "execution_count": 26,
   "metadata": {},
   "outputs": [
    {
     "data": {
      "text/plain": [
       "{'constant': 71114625.71488702,\n",
       " 'bedrooms': 0.0,\n",
       " 'bathrooms': 0.0,\n",
       " 'sqft_living': 0.0,\n",
       " 'sqft_lot': 0.0,\n",
       " 'floors': 0.0,\n",
       " 'waterfront': 0.0,\n",
       " 'view': 0.0,\n",
       " 'condition': 0.0,\n",
       " 'grade': 0.0,\n",
       " 'sqft_above': 0.0,\n",
       " 'sqft_basement': 0.0,\n",
       " 'yr_built': 0.0,\n",
       " 'yr_renovated': 0.0}"
      ]
     },
     "execution_count": 26,
     "metadata": {},
     "output_type": "execute_result"
    }
   ],
   "source": [
    "weights_1e8 = lasso_cyclical_coordinate_descent(feature_matrix=normalised_train,\n",
    "                                                target=target_train,\n",
    "                                                initial_weights=np.zeros(len(normalised_train.columns)).reshape(-1,1),\n",
    "                                                l1_penalty=1e8,\n",
    "                                                tolerance=1.0,\n",
    "                                 )\n",
    "dict(zip(['constant'] + features, weights_1e8[:,0]))"
   ]
  },
  {
   "cell_type": "markdown",
   "metadata": {},
   "source": [
    "<hr>\n",
    "Finally, learn the weights with l1_penalty=1e4\n",
    "\n",
    "**Quiz Question: What features had non-zero weight in this case?**"
   ]
  },
  {
   "cell_type": "code",
   "execution_count": 27,
   "metadata": {},
   "outputs": [
    {
     "data": {
      "text/plain": [
       "{'constant': 787859491.4777097,\n",
       " 'bedrooms': -19661143.86195114,\n",
       " 'bathrooms': 12889336.680140473,\n",
       " 'sqft_living': 52001512.37648063,\n",
       " 'sqft_lot': -1344483.463465898,\n",
       " 'floors': 4406130.558392141,\n",
       " 'waterfront': 6858434.733728389,\n",
       " 'view': 4535871.1556754075,\n",
       " 'condition': 8664230.48212697,\n",
       " 'grade': 128374341.98013332,\n",
       " 'sqft_above': 0.0,\n",
       " 'sqft_basement': 364776.37068867375,\n",
       " 'yr_built': -898872854.9727703,\n",
       " 'yr_renovated': 649411.4723077354}"
      ]
     },
     "execution_count": 27,
     "metadata": {},
     "output_type": "execute_result"
    }
   ],
   "source": [
    "weights_1e4 = lasso_cyclical_coordinate_descent(feature_matrix=normalised_train,\n",
    "                                                target=target_train,\n",
    "                                                initial_weights=np.zeros(len(normalised_train.columns)).reshape(-1,1),\n",
    "                                                l1_penalty=1e4,\n",
    "                                                tolerance=1.0,\n",
    "                                 )\n",
    "dict(zip(['constant'] + features, weights_1e4[:,0]))"
   ]
  },
  {
   "cell_type": "code",
   "execution_count": 28,
   "metadata": {},
   "outputs": [
    {
     "data": {
      "text/plain": [
       "array([161.31745765])"
      ]
     },
     "execution_count": 28,
     "metadata": {},
     "output_type": "execute_result"
    }
   ],
   "source": [
    "normalised_weights_1e7 = weights_1e7 / norms_train\n",
    "normalised_weights_1e7[3]"
   ]
  },
  {
   "cell_type": "markdown",
   "metadata": {},
   "source": [
    "Evaluating each of the learned models on the test data"
   ]
  },
  {
   "cell_type": "code",
   "execution_count": 29,
   "metadata": {},
   "outputs": [],
   "source": [
    "features_test, target_test = get_data(df_test, features, 'price')"
   ]
  },
  {
   "cell_type": "code",
   "execution_count": 30,
   "metadata": {},
   "outputs": [],
   "source": [
    "normalised_weights_1e8 = weights_1e8 / norms_train\n",
    "normalised_weights_1e4 = weights_1e4 / norms_train"
   ]
  },
  {
   "cell_type": "code",
   "execution_count": 31,
   "metadata": {},
   "outputs": [
    {
     "name": "stdout",
     "output_type": "stream",
     "text": [
      "\n",
      "rss_1e7: [[2.75962076e+14]]\n",
      "rss_1e8: [[5.37166151e+14]]\n",
      "rss_1e4: [[1.94415789e+14]]\n",
      "\n"
     ]
    }
   ],
   "source": [
    "rss_1e7 = rss(target_test, predict_output(features_test, normalised_weights_1e7))\n",
    "rss_1e8 = rss(target_test, predict_output(features_test, normalised_weights_1e8))\n",
    "rss_1e4 = rss(target_test, predict_output(features_test, normalised_weights_1e4))\n",
    "\n",
    "print('''\n",
    "rss_1e7: {}\n",
    "rss_1e8: {}\n",
    "rss_1e4: {}\n",
    "'''.format(rss_1e7, rss_1e8, rss_1e4))"
   ]
  }
 ],
 "metadata": {
  "kernelspec": {
   "display_name": "Python 3",
   "language": "python",
   "name": "python3"
  },
  "language_info": {
   "codemirror_mode": {
    "name": "ipython",
    "version": 3
   },
   "file_extension": ".py",
   "mimetype": "text/x-python",
   "name": "python",
   "nbconvert_exporter": "python",
   "pygments_lexer": "ipython3",
   "version": "3.6.4"
  }
 },
 "nbformat": 4,
 "nbformat_minor": 2
}
