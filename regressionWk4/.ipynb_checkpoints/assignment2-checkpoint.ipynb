{
 "cells": [
  {
   "cell_type": "code",
   "execution_count": 1,
   "metadata": {},
   "outputs": [],
   "source": [
    "import pandas as pd\n",
    "import numpy as np\n",
    "%matplotlib inline\n",
    "import matplotlib.pyplot as plt"
   ]
  },
  {
   "cell_type": "code",
   "execution_count": 2,
   "metadata": {},
   "outputs": [],
   "source": [
    "dtype_dict = {'bathrooms':float, 'waterfront':int, 'sqft_above':int, 'sqft_living15':float, \n",
    "              'grade':int, 'yr_renovated':int, 'price':float, 'bedrooms':float, 'zipcode':str, \n",
    "              'long':float, 'sqft_lot15':float, 'sqft_living':float, 'floors':float, 'condition':int, \n",
    "              'lat':float, 'date':str, 'sqft_basement':int, 'yr_built':int, \n",
    "              'id':str, 'sqft_lot':int, 'view':int}"
   ]
  },
  {
   "cell_type": "code",
   "execution_count": 3,
   "metadata": {},
   "outputs": [],
   "source": [
    "df_sales = pd.read_csv('kc_house_data.csv', dtype=dtype_dict)\n",
    "df_train = pd.read_csv('kc_house_train_data.csv', dtype=dtype_dict)\n",
    "df_test = pd.read_csv('kc_house_test_data.csv', dtype=dtype_dict)"
   ]
  },
  {
   "cell_type": "code",
   "execution_count": 4,
   "metadata": {},
   "outputs": [],
   "source": [
    "def get_data(data, features, target):\n",
    "    out_df = pd.DataFrame(data[features])\n",
    "    out_df['constant'] = 1\n",
    "    \n",
    "    return (out_df[['constant'] + features], pd.DataFrame(data[target]))"
   ]
  },
  {
   "cell_type": "code",
   "execution_count": 5,
   "metadata": {},
   "outputs": [],
   "source": [
    "def predict_output(feature_matrix, weights):\n",
    "    return np.dot(feature_matrix, weights).reshape(-1,1)"
   ]
  },
  {
   "cell_type": "code",
   "execution_count": 6,
   "metadata": {},
   "outputs": [],
   "source": [
    "def feature_derivative_ridge(errors, feature, weight, l2_penalty, feature_is_constant):\n",
    "    if (feature_is_constant): return 2 * np.sum(errors)\n",
    "    \n",
    "    dRSSdw = 2 * np.sum(errors * feature)\n",
    "    dL2dw = 2 * l2_penalty * weight\n",
    "    \n",
    "    return dRSSdw + dL2dw"
   ]
  },
  {
   "cell_type": "code",
   "execution_count": 7,
   "metadata": {},
   "outputs": [
    {
     "name": "stdout",
     "output_type": "stream",
     "text": [
      "price   -5.655417e+13\n",
      "dtype: float64\n",
      "-56554166815950.0\n",
      "price   -2.244675e+10\n",
      "dtype: float64\n",
      "price   -2.244675e+10\n",
      "dtype: float64\n"
     ]
    }
   ],
   "source": [
    "example_features, example_output = get_data(df_sales, ['sqft_living'], 'price')\n",
    "my_weights = np.array([1., 10.]).reshape(-1,1)\n",
    "test_predictions = predict_output(example_features, my_weights)\n",
    "errors = test_predictions - example_output # prediction errors\n",
    "\n",
    "#next two lines should print the same values\n",
    "print(feature_derivative_ridge(errors, example_features.iloc[:,1].values.reshape(-1,1), my_weights[1], 1, False))\n",
    "print(np.dot(example_features.iloc[:,1].values.reshape(-1,1).T, errors).squeeze()*2+20.)\n",
    "\n",
    "#next two lines should print the same values\n",
    "print(feature_derivative_ridge(errors, example_features.iloc[:,0].values.reshape(-1,1), my_weights[0], 1, True))\n",
    "print(np.sum(errors)*2.)"
   ]
  },
  {
   "cell_type": "code",
   "execution_count": 8,
   "metadata": {},
   "outputs": [],
   "source": [
    "def ridge_regression_gradient_descent(feature_matrix, target, initial_weights, step_size, l2_penalty, max_iterations=100):\n",
    "    weights = np.array(initial_weights)\n",
    "    \n",
    "    for _ in range(max_iterations):\n",
    "        predictions = predict_output(feature_matrix, weights)\n",
    "\n",
    "        errors = predictions - target\n",
    "        \n",
    "        for i in range(len(weights)):\n",
    "            column = feature_matrix.iloc[:, i].values.reshape(-1,1)\n",
    "            \n",
    "            weights[i] = weights[i] - step_size*feature_derivative_ridge(\n",
    "                errors, \n",
    "                column, \n",
    "                weights[i], \n",
    "                l2_penalty, \n",
    "                i==0,\n",
    "            ) \n",
    "              \n",
    "    return weights"
   ]
  },
  {
   "cell_type": "code",
   "execution_count": 9,
   "metadata": {},
   "outputs": [],
   "source": [
    "simple_features = ['sqft_living']\n",
    "my_target = 'price'\n",
    "(simple_feature_matrix, target) = get_data(df_train, simple_features, my_target)\n",
    "(simple_test_feature_matrix, test_target) = get_data(df_test, simple_features, my_target)"
   ]
  },
  {
   "cell_type": "code",
   "execution_count": 10,
   "metadata": {},
   "outputs": [],
   "source": [
    "step_size = 1e-12\n",
    "max_iterations = 1000\n",
    "initial_weights = np.zeros((simple_feature_matrix.shape[1],1))"
   ]
  },
  {
   "cell_type": "code",
   "execution_count": 11,
   "metadata": {},
   "outputs": [
    {
     "data": {
      "text/plain": [
       "array([[-1.63113515e-01],\n",
       "       [ 2.63024369e+02]])"
      ]
     },
     "execution_count": 11,
     "metadata": {},
     "output_type": "execute_result"
    }
   ],
   "source": [
    "simple_weights_0_penalty = ridge_regression_gradient_descent(\n",
    "    simple_feature_matrix, \n",
    "    target, \n",
    "    initial_weights,\n",
    "    step_size,\n",
    "    0.0,\n",
    "    max_iterations,\n",
    ")\n",
    "\n",
    "simple_weights_0_penalty"
   ]
  },
  {
   "cell_type": "code",
   "execution_count": 12,
   "metadata": {},
   "outputs": [
    {
     "data": {
      "text/plain": [
       "array([[  9.76730382],\n",
       "       [124.57217567]])"
      ]
     },
     "execution_count": 12,
     "metadata": {},
     "output_type": "execute_result"
    }
   ],
   "source": [
    "simple_weights_high_penalty = ridge_regression_gradient_descent(\n",
    "    simple_feature_matrix, \n",
    "    target, \n",
    "    initial_weights,\n",
    "    step_size,\n",
    "    1e11,\n",
    "    max_iterations,\n",
    ")\n",
    "\n",
    "simple_weights_high_penalty"
   ]
  },
  {
   "cell_type": "code",
   "execution_count": 13,
   "metadata": {},
   "outputs": [
    {
     "data": {
      "image/png": "[encoded data removed]",
      "text/plain": [
       "<Figure size 432x288 with 1 Axes>"
      ]
     },
     "metadata": {},
     "output_type": "display_data"
    }
   ],
   "source": [
    "fig, ax = plt.subplots()\n",
    "\n",
    "ax.scatter(x=df_train['sqft_living'], y=df_train['price'], c='black', alpha=0.2)\n",
    "\n",
    "ax.plot(df_train['sqft_living'], predict_output(simple_feature_matrix, simple_weights_0_penalty), color='blue')\n",
    "\n",
    "ax.plot(df_train['sqft_living'], predict_output(simple_feature_matrix, simple_weights_high_penalty), color='red')\n",
    "\n",
    "plt.show()"
   ]
  },
  {
   "cell_type": "markdown",
   "metadata": {},
   "source": [
    "<hr>\n",
    "\n",
    "**Quiz Question: What is the value of the coefficient for sqft_living that you learned with no regularization, rounded to 1 decimal place? What about the one with high regularization?**\n",
    "\n",
    "**Quiz Question: Comparing the lines you fit with the with no regularization versus high regularization, which one is steeper?**\n",
    "\n",
    "<hr>"
   ]
  },
  {
   "cell_type": "code",
   "execution_count": 14,
   "metadata": {},
   "outputs": [],
   "source": [
    "def rss(y, y_hat): \n",
    "    return np.dot((y - y_hat).T, (y - y_hat))"
   ]
  },
  {
   "cell_type": "code",
   "execution_count": 15,
   "metadata": {},
   "outputs": [
    {
     "name": "stdout",
     "output_type": "stream",
     "text": [
      "0 weights: [[1.78427329e+15]]\n",
      "low: [[2.75723632e+14]]\n",
      "high: [[6.94642101e+14]]\n"
     ]
    }
   ],
   "source": [
    "rss_0 = rss(test_target, predict_output(simple_test_feature_matrix, initial_weights))\n",
    "rss_low = rss(test_target, predict_output(simple_test_feature_matrix, simple_weights_0_penalty))\n",
    "rss_high = rss(test_target, predict_output(simple_test_feature_matrix, simple_weights_high_penalty))\n",
    "\n",
    "print('0 weights: {}\\nlow: {}\\nhigh: {}'.format(rss_0, rss_low, rss_high))"
   ]
  },
  {
   "cell_type": "markdown",
   "metadata": {},
   "source": [
    "<hr>\n",
    "\n",
    "**Quiz Question: What are the RSS on the test data for each of the set of weights above (initial, no regularization, high regularization)?**\n",
    "\n",
    "<hr>"
   ]
  },
  {
   "cell_type": "code",
   "execution_count": 16,
   "metadata": {},
   "outputs": [],
   "source": [
    "model_features = ['sqft_living', 'sqft_living15']\n",
    "my_target = 'price'\n",
    "(feature_matrix, target) = get_data(df_train, model_features, my_target)\n",
    "(test_feature_matrix, test_target) = get_data(df_test, model_features, my_target)"
   ]
  },
  {
   "cell_type": "code",
   "execution_count": 17,
   "metadata": {},
   "outputs": [],
   "source": [
    "step_size = 1e-12\n",
    "max_iterations = 1000\n",
    "initial_weights = np.zeros((feature_matrix.shape[1],1))"
   ]
  },
  {
   "cell_type": "code",
   "execution_count": 18,
   "metadata": {},
   "outputs": [
    {
     "data": {
      "text/plain": [
       "array([[ -0.35743483],\n",
       "       [243.05416982],\n",
       "       [ 22.41481497]])"
      ]
     },
     "execution_count": 18,
     "metadata": {},
     "output_type": "execute_result"
    }
   ],
   "source": [
    "multiple_weights_0_penalty = ridge_regression_gradient_descent(\n",
    "    feature_matrix, \n",
    "    target, \n",
    "    initial_weights,\n",
    "    step_size,\n",
    "    0.0,\n",
    "    max_iterations,\n",
    ")\n",
    "\n",
    "multiple_weights_0_penalty"
   ]
  },
  {
   "cell_type": "code",
   "execution_count": 19,
   "metadata": {},
   "outputs": [
    {
     "data": {
      "text/plain": [
       "array([[ 6.74296579],\n",
       "       [91.48927365],\n",
       "       [78.43658766]])"
      ]
     },
     "execution_count": 19,
     "metadata": {},
     "output_type": "execute_result"
    }
   ],
   "source": [
    "multiple_weights_high_penalty = ridge_regression_gradient_descent(\n",
    "    feature_matrix, \n",
    "    target, \n",
    "    initial_weights,\n",
    "    step_size,\n",
    "    1e11,\n",
    "    max_iterations,\n",
    ")\n",
    "\n",
    "multiple_weights_high_penalty"
   ]
  },
  {
   "cell_type": "markdown",
   "metadata": {},
   "source": [
    "<hr>\n",
    "\n",
    "**Quiz Question: What is the value of the coefficient for ‘sqft_living’ that you learned with no regularization, rounded to 1 decimal place? What about the one with high regularization?**\n",
    "\n",
    "<hr>"
   ]
  },
  {
   "cell_type": "code",
   "execution_count": 20,
   "metadata": {},
   "outputs": [
    {
     "name": "stdout",
     "output_type": "stream",
     "text": [
      "0 weights: [[1.78427329e+15]]\n",
      "low: [[2.74067616e+14]]\n",
      "high: [[5.00404801e+14]]\n"
     ]
    }
   ],
   "source": [
    "rss_0 = rss(test_target, predict_output(test_feature_matrix, initial_weights))\n",
    "rss_low = rss(test_target, predict_output(test_feature_matrix, multiple_weights_0_penalty))\n",
    "rss_high = rss(test_target, predict_output(test_feature_matrix, multiple_weights_high_penalty))\n",
    "\n",
    "print('0 weights: {}\\nlow: {}\\nhigh: {}'.format(rss_0, rss_low, rss_high))"
   ]
  },
  {
   "cell_type": "markdown",
   "metadata": {},
   "source": [
    "<hr>\n",
    "\n",
    "**Quiz Question: What are the RSS on the test data for each of the set of weights above (initial, no regularization, high regularization)?**\n",
    "\n",
    "**Quiz Question: What's the error in predicting the price of the first house in the test set using the weights learned with no regularization? What about with high regularization?**\n",
    "\n",
    "<hr>"
   ]
  },
  {
   "cell_type": "code",
   "execution_count": 21,
   "metadata": {},
   "outputs": [
    {
     "data": {
      "text/plain": [
       "price   -94939.415016\n",
       "Name: 0, dtype: float64"
      ]
     },
     "execution_count": 21,
     "metadata": {},
     "output_type": "execute_result"
    }
   ],
   "source": [
    "target.iloc[0] - predict_output(feature_matrix, multiple_weights_0_penalty)[0]"
   ]
  },
  {
   "cell_type": "code",
   "execution_count": 22,
   "metadata": {},
   "outputs": [
    {
     "data": {
      "text/plain": [
       "price    8830.886662\n",
       "Name: 0, dtype: float64"
      ]
     },
     "execution_count": 22,
     "metadata": {},
     "output_type": "execute_result"
    }
   ],
   "source": [
    "target.iloc[0] - predict_output(feature_matrix, multiple_weights_high_penalty)[0]"
   ]
  },
  {
   "cell_type": "code",
   "execution_count": null,
   "metadata": {},
   "outputs": [],
   "source": []
  }
 ],
 "metadata": {
  "kernelspec": {
   "display_name": "Python 3",
   "language": "python",
   "name": "python3"
  },
  "language_info": {
   "codemirror_mode": {
    "name": "ipython",
    "version": 3
   },
   "file_extension": ".py",
   "mimetype": "text/x-python",
   "name": "python",
   "nbconvert_exporter": "python",
   "pygments_lexer": "ipython3",
   "version": "3.6.4"
  }
 },
 "nbformat": 4,
 "nbformat_minor": 2
}
